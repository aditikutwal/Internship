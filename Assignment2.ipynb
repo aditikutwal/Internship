{
  "nbformat": 4,
  "nbformat_minor": 0,
  "metadata": {
    "colab": {
      "provenance": [],
      "include_colab_link": true
    },
    "kernelspec": {
      "name": "python3",
      "display_name": "Python 3"
    },
    "language_info": {
      "name": "python"
    }
  },
  "cells": [
    {
      "cell_type": "markdown",
      "metadata": {
        "id": "view-in-github",
        "colab_type": "text"
      },
      "source": [
        "<a href=\"https://colab.research.google.com/github/aditikutwal/Internship/blob/file1/Assignment2.ipynb\" target=\"_parent\"><img src=\"https://colab.research.google.com/assets/colab-badge.svg\" alt=\"Open In Colab\"/></a>"
      ]
    },
    {
      "cell_type": "code",
      "execution_count": null,
      "metadata": {
        "id": "sIcljcCcOHCp"
      },
      "outputs": [],
      "source": [
        "import pandas as pd\n",
        "import re\n",
        "import regex as re"
      ]
    },
    {
      "cell_type": "code",
      "source": [
        "#Q1\n",
        "sample_text = 'Python Exercises, PHP exercises.'\n",
        "x = re.sub(r'[\\s,.]', ':', sample_text)\n",
        "print(x)"
      ],
      "metadata": {
        "colab": {
          "base_uri": "https://localhost:8080/"
        },
        "id": "NdZBNJJJONpU",
        "outputId": "36fbabfe-1684-4128-d2f4-d8517be3e523"
      },
      "execution_count": null,
      "outputs": [
        {
          "output_type": "stream",
          "name": "stdout",
          "text": [
            "Python:Exercises::PHP:exercises:\n"
          ]
        }
      ]
    },
    {
      "cell_type": "code",
      "source": [
        "Dictionary = {'SUMMARY' : ['hello, world!', 'XXXXX test', '123four, five:; six...']}\n",
        "df = pd.DataFrame(Dictionary)\n",
        "#print(df)\n",
        "\n",
        "pattern = r'[^a-z ]'\n",
        "df['SUMMARY'].str.replace(pattern, '')"
      ],
      "metadata": {
        "colab": {
          "base_uri": "https://localhost:8080/"
        },
        "id": "lG00wJLtT3Q3",
        "outputId": "e35eb9d5-7691-4c7d-805e-5f50fc32fde9"
      },
      "execution_count": null,
      "outputs": [
        {
          "output_type": "stream",
          "name": "stderr",
          "text": [
            "<ipython-input-23-171eec27764e>:6: FutureWarning: The default value of regex will change from True to False in a future version.\n",
            "  df['SUMMARY'].str.replace(pattern, '')\n"
          ]
        },
        {
          "output_type": "execute_result",
          "data": {
            "text/plain": [
              "0      hello world\n",
              "1             test\n",
              "2    four five six\n",
              "Name: SUMMARY, dtype: object"
            ]
          },
          "metadata": {},
          "execution_count": 23
        }
      ]
    },
    {
      "cell_type": "code",
      "source": [
        "def fun1(string):\n",
        "  string_pattern = r'\\w{4,}'\n",
        "  re_patt = re.compile(string_pattern)\n",
        "  result = re_patt.findall(string)\n",
        "  print(result)"
      ],
      "metadata": {
        "id": "dmQa08WPfmkh"
      },
      "execution_count": null,
      "outputs": []
    },
    {
      "cell_type": "code",
      "source": [
        "def fun2(string):\n",
        "  string_pattern = r'\\b\\w{3,5}\\b'\n",
        "  re_patt = re.compile(string_pattern)\n",
        "  result = re_patt.findall(string)\n",
        "  print(result)\n",
        "\n",
        "str2 = '''Forgiveness 21 a difficult but necessary act that can bring healing and peace to both the forgiver and the forgiven.\n",
        "Whether it's forgiving oneself or others, it's important to let go of grudges and resentments in order to move forward.'''\n",
        "\n",
        "fun2(str2)"
      ],
      "metadata": {
        "colab": {
          "base_uri": "https://localhost:8080/"
        },
        "id": "5zF7xG5-jPiX",
        "outputId": "efab40ea-bebb-4b5b-ccb8-ddc25a6f1625"
      },
      "execution_count": null,
      "outputs": [
        {
          "output_type": "stream",
          "name": "stdout",
          "text": [
            "['but', 'act', 'that', 'can', 'bring', 'and', 'peace', 'both', 'the', 'and', 'the', 'let', 'and', 'order', 'move']\n"
          ]
        }
      ]
    },
    {
      "cell_type": "code",
      "source": [
        "sample_text =  [\"example(.com)\", \"hr@fliprobo(.com)\", \"github(.com)\", \"Hello (Data Science World)\", \"Data (Scientist)\"]\n",
        "\n",
        "paren = r'[()]'\n",
        "re_patt = re.compile(paren)\n",
        "\n",
        "for text in sample_text:\n",
        "  result = re_patt.sub('',text)\n",
        "  print(result)"
      ],
      "metadata": {
        "colab": {
          "base_uri": "https://localhost:8080/"
        },
        "id": "Jh9vrQNQjzeY",
        "outputId": "bea91426-3355-41e1-bffa-4dc84a42ae0c"
      },
      "execution_count": null,
      "outputs": [
        {
          "output_type": "stream",
          "name": "stdout",
          "text": [
            "example.com\n",
            "hr@fliprobo.com\n",
            "github.com\n",
            "Hello Data Science World\n",
            "Data Scientist\n"
          ]
        }
      ]
    },
    {
      "cell_type": "code",
      "source": [
        "sample_text =  [\"example(.com)\", \"hr@fliprobo(.com)\", \"github(.com)\", \"Hello (Data Science World)\", \"Data (Scientist)\"]\n",
        "\n",
        "paren = r'\\([^)]*\\)'\n",
        "re_patt = re.compile(paren)\n",
        "\n",
        "for text in sample_text:\n",
        "  result = re_patt.sub('',text)\n",
        "  print(result)"
      ],
      "metadata": {
        "colab": {
          "base_uri": "https://localhost:8080/"
        },
        "id": "gYtj2pyIvjQp",
        "outputId": "3f7c8d78-467b-42ab-8b35-742dbd90ec1a"
      },
      "execution_count": null,
      "outputs": [
        {
          "output_type": "stream",
          "name": "stdout",
          "text": [
            "example\n",
            "hr@fliprobo\n",
            "github\n",
            "Hello \n",
            "Data \n"
          ]
        }
      ]
    },
    {
      "cell_type": "code",
      "source": [
        "sample_text = 'ImportanceOfRegularExpressionsInPython'\n",
        "result = re.findall('[A-Z][^A-Z]*', sample_text)\n",
        "print(result)"
      ],
      "metadata": {
        "colab": {
          "base_uri": "https://localhost:8080/"
        },
        "id": "PVKib3oxyZkv",
        "outputId": "6acff65a-0077-4564-b782-3afd11efebc7"
      },
      "execution_count": null,
      "outputs": [
        {
          "output_type": "stream",
          "name": "stdout",
          "text": [
            "['Importance', 'Of', 'Regular', 'Expressions', 'In', 'Python']\n"
          ]
        }
      ]
    },
    {
      "cell_type": "markdown",
      "source": [
        "###"
      ],
      "metadata": {
        "id": "lAr8o-MRczu1"
      }
    },
    {
      "cell_type": "code",
      "source": [
        "sample_text = 'RegularExpression1IsAn2ImportantTopic3InPython'\n",
        "result = re.sub(r'(?<=[0-9])(?=[a-zA-Z])',' ', sample_text)\n",
        "print(result)"
      ],
      "metadata": {
        "colab": {
          "base_uri": "https://localhost:8080/"
        },
        "id": "HGo8OghI6NU4",
        "outputId": "fe21660d-7df8-4f39-8dcf-9ada27247a22"
      },
      "execution_count": null,
      "outputs": [
        {
          "output_type": "stream",
          "name": "stdout",
          "text": [
            "RegularExpression1 IsAn2 ImportantTopic3 InPython\n"
          ]
        }
      ]
    },
    {
      "cell_type": "code",
      "source": [
        "sample_text = 'RegularExpression1IsAn2ImportantTopic3InPython'\n",
        "result = re.sub('(\\W)+([0-9])',' ', sample_text)\n",
        "print(result)"
      ],
      "metadata": {
        "colab": {
          "base_uri": "https://localhost:8080/"
        },
        "id": "ypVcgProhbBo",
        "outputId": "cdb7b993-16da-4ec0-e200-dcaf0c9a2bc5"
      },
      "execution_count": null,
      "outputs": [
        {
          "output_type": "stream",
          "name": "stdout",
          "text": [
            "RegularExpression1IsAn2ImportantTopic3InPython\n"
          ]
        }
      ]
    },
    {
      "cell_type": "code",
      "source": [
        "string = input('Enter string: ')\n",
        "if re.search('^[0-9a-zA-Z_]+$', string):\n",
        "  print('Condition matched.')\n",
        "else:\n",
        "  print('Condition not matched.')"
      ],
      "metadata": {
        "id": "hTIpJJivjGx9",
        "colab": {
          "base_uri": "https://localhost:8080/"
        },
        "outputId": "30925d3d-1c62-4952-88c4-163e4335bb5b"
      },
      "execution_count": null,
      "outputs": [
        {
          "output_type": "stream",
          "name": "stdout",
          "text": [
            "Enter string: The quick brown fox jumps over the lazy dog.\n",
            "Condition not matched.\n"
          ]
        }
      ]
    },
    {
      "cell_type": "code",
      "source": [
        "Number = input('Enter your specific number: ')\n",
        "string = input('Enter string: ')\n",
        "if re.match(Number, string):\n",
        "  print('Condition matched.')\n",
        "else:\n",
        "  print('Condition not matched.')"
      ],
      "metadata": {
        "colab": {
          "base_uri": "https://localhost:8080/"
        },
        "id": "hhLs7Wb_N2jy",
        "outputId": "41f45a8d-d5e7-4774-82ce-4b9bbd24171c"
      },
      "execution_count": null,
      "outputs": [
        {
          "output_type": "stream",
          "name": "stdout",
          "text": [
            "Enter your specific number: 2\n",
            "Enter string: gt2sd\n",
            "Condition not matched.\n"
          ]
        }
      ]
    },
    {
      "cell_type": "code",
      "source": [
        "IP_add = input('Enter the IP Address: ')\n",
        "new_IP = re.sub('\\.[0]+', '.', IP_add)\n",
        "print(new_IP)"
      ],
      "metadata": {
        "colab": {
          "base_uri": "https://localhost:8080/"
        },
        "id": "1EBSiy2OOm8I",
        "outputId": "7d0d6648-17b8-42f9-ddb5-59a8f25cff7a"
      },
      "execution_count": null,
      "outputs": [
        {
          "output_type": "stream",
          "name": "stdout",
          "text": [
            "Enter the IP Address: 216.08.094.196\n",
            "216.8.94.196\n"
          ]
        }
      ]
    },
    {
      "cell_type": "code",
      "source": [
        "sample_text = '01.12, 0132.123, 2.31875, 145.8, 3.01, 27.25, 0.25'\n",
        "two_decimal = re.compile(r'\\d+\\.\\d{1,2}')\n",
        "result = re.findall(two_decimal, sample_text)\n",
        "print(result)"
      ],
      "metadata": {
        "colab": {
          "base_uri": "https://localhost:8080/"
        },
        "id": "FJPiCl_tSULr",
        "outputId": "abe4b3a1-0a8e-4f8f-f7b6-c6f77b4189aa"
      },
      "execution_count": null,
      "outputs": [
        {
          "output_type": "stream",
          "name": "stdout",
          "text": [
            "['01.12', '0132.12', '2.31', '145.8', '3.01', '27.25', '0.25']\n"
          ]
        }
      ]
    },
    {
      "cell_type": "code",
      "source": [
        "import numpy as np\n",
        "\n",
        "sample_text = 'My marks in each semester are: 947, 896, 926, 524, 734, 950, 642'\n",
        "\n",
        "numbers = re.findall(r'\\d+', sample_text)\n",
        "int_num = np.array(numbers, dtype=int)\n",
        "\n",
        "max_num = max(int_num)\n",
        "print(max_num)"
      ],
      "metadata": {
        "colab": {
          "base_uri": "https://localhost:8080/"
        },
        "id": "FTjVciArmkgt",
        "outputId": "a3f5d5a6-bde6-4714-ad8a-0867d1b00e43"
      },
      "execution_count": null,
      "outputs": [
        {
          "output_type": "stream",
          "name": "stdout",
          "text": [
            "950\n"
          ]
        }
      ]
    },
    {
      "cell_type": "code",
      "source": [
        "sample_text = '''RT @kapil_kausik: #Doltiwal I mean #xyzabc is \"hurt\" by\n",
        " #Demonetization as the same has rendered USELESS <ed><U+00A0><U+00BD><ed><U+00B1><U+0089> \"acquired funds\" No wo'''\n",
        "\n",
        "modi_text = re.findall(r'#\\w+', sample_text)\n",
        "print(modi_text)"
      ],
      "metadata": {
        "id": "hV9xbGwUvn_A",
        "colab": {
          "base_uri": "https://localhost:8080/"
        },
        "outputId": "da4ddf39-2a2e-4a5b-a623-906613a4ed88"
      },
      "execution_count": null,
      "outputs": [
        {
          "output_type": "stream",
          "name": "stdout",
          "text": [
            "['#Doltiwal', '#xyzabc', '#Demonetization']\n"
          ]
        }
      ]
    },
    {
      "cell_type": "code",
      "source": [
        "sample_text = '''@Jags123456 Bharat band on 28??<ed><U+00A0><U+00BD><ed><U+00B8><U+0082>\n",
        "Those who  are protesting #demonetization  are all different party leaders'''\n",
        "\n",
        "modi_text = re.sub(r'<U.\\w+>', '', sample_text)\n",
        "print(modi_text)"
      ],
      "metadata": {
        "colab": {
          "base_uri": "https://localhost:8080/"
        },
        "id": "ACw0A3kl2lan",
        "outputId": "27d66f19-e1e3-4867-933b-13d253dd6f68"
      },
      "execution_count": null,
      "outputs": [
        {
          "output_type": "stream",
          "name": "stdout",
          "text": [
            "@Jags123456 Bharat band on 28??<ed><ed>\n",
            "Those who  are protesting #demonetization  are all different party leaders\n"
          ]
        }
      ]
    }
  ]
}