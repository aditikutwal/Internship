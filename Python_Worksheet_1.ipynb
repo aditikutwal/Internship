{
  "nbformat": 4,
  "nbformat_minor": 0,
  "metadata": {
    "colab": {
      "provenance": [],
      "include_colab_link": true
    },
    "kernelspec": {
      "name": "python3",
      "display_name": "Python 3"
    },
    "language_info": {
      "name": "python"
    }
  },
  "cells": [
    {
      "cell_type": "markdown",
      "metadata": {
        "id": "view-in-github",
        "colab_type": "text"
      },
      "source": [
        "<a href=\"https://colab.research.google.com/github/aditikutwal/Internship/blob/file1/Python_Worksheet_1.ipynb\" target=\"_parent\"><img src=\"https://colab.research.google.com/assets/colab-badge.svg\" alt=\"Open In Colab\"/></a>"
      ]
    },
    {
      "cell_type": "markdown",
      "source": [
        "Write a python program to find the factorial of a number."
      ],
      "metadata": {
        "id": "iV-sc6SiDl8i"
      }
    },
    {
      "cell_type": "code",
      "execution_count": null,
      "metadata": {
        "id": "ZBB8vMS3DKp4"
      },
      "outputs": [],
      "source": [
        "num = int(input('Enter a number: '))\n",
        "fact = 1\n",
        "if num == 1 or num == 0:\n",
        "  print(f'Factorial of {num} is {fact}.')\n",
        "else:\n",
        "  for i in range(1, num+1):\n",
        "    fact = fact*i\n",
        "  print(f'Factorial of {num} is {fact}.')"
      ]
    },
    {
      "cell_type": "markdown",
      "source": [
        "Write a python program to find whether a number is prime or composite."
      ],
      "metadata": {
        "id": "vT5wyggbFJFC"
      }
    },
    {
      "cell_type": "code",
      "source": [
        "num = int(input('Enter a number: '))\n",
        "\n",
        "if num > 1:\n",
        "  for i in range(2, int(num/2)):\n",
        "    if num%i == 0:\n",
        "      print(f'{num} is a composite number.')\n",
        "    else:\n",
        "      print(f'{num} is a prime number.')\n",
        "else:\n",
        "  print(f'{num} is a composite number.')"
      ],
      "metadata": {
        "id": "sWOzRTHxEBwI"
      },
      "execution_count": null,
      "outputs": []
    },
    {
      "cell_type": "markdown",
      "source": [
        "Write a python program to check whether a given string is palindrome or not."
      ],
      "metadata": {
        "id": "UuWBVwd-HEe-"
      }
    },
    {
      "cell_type": "code",
      "source": [
        "string = input('Enter a string (in the same case): ')\n",
        "if (string == string[::-1]):\n",
        "  print(f'{string} is a pallindrome.')\n",
        "else:\n",
        "  print(f'{string} is not a pallindrome.')"
      ],
      "metadata": {
        "id": "5VksJoa6Ge-o"
      },
      "execution_count": null,
      "outputs": []
    },
    {
      "cell_type": "markdown",
      "source": [
        "Write a Python program to get the third side of right-angled triangle from two given sides."
      ],
      "metadata": {
        "id": "rEFPwUlgKB2Q"
      }
    },
    {
      "cell_type": "code",
      "source": [
        "import math\n",
        "\n",
        "side1 = int(input('Enter first side of the triangle (in cms): '))\n",
        "side2 = int(input('Enter second side of the triangle (in cms): '))\n",
        "side3 = math.sqrt((side1*side1)+(side2*side2))\n",
        "print(f'The third side of the triangle is {round(side3,2)} cm.')"
      ],
      "metadata": {
        "id": "oEmRUiHAJydO"
      },
      "execution_count": null,
      "outputs": []
    },
    {
      "cell_type": "markdown",
      "source": [
        "Write a python program to print the frequency of each of the characters present in a given string."
      ],
      "metadata": {
        "id": "CfaIpWwXPKHd"
      }
    }
  ]
}