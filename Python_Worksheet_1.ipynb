{
  "nbformat": 4,
  "nbformat_minor": 0,
  "metadata": {
    "colab": {
      "provenance": [],
      "include_colab_link": true
    },
    "kernelspec": {
      "name": "python3",
      "display_name": "Python 3"
    },
    "language_info": {
      "name": "python"
    }
  },
  "cells": [
    {
      "cell_type": "markdown",
      "metadata": {
        "id": "view-in-github",
        "colab_type": "text"
      },
      "source": [
        "<a href=\"https://colab.research.google.com/github/aditikutwal/Internship/blob/file1/Python_Worksheet_1.ipynb\" target=\"_parent\"><img src=\"https://colab.research.google.com/assets/colab-badge.svg\" alt=\"Open In Colab\"/></a>"
      ]
    },
    {
      "cell_type": "markdown",
      "source": [
        "Write a python program to find the factorial of a number."
      ],
      "metadata": {
        "id": "iV-sc6SiDl8i"
      }
    },
    {
      "cell_type": "code",
      "execution_count": null,
      "metadata": {
        "colab": {
          "base_uri": "https://localhost:8080/"
        },
        "id": "ZBB8vMS3DKp4",
        "outputId": "b01865d8-cdce-4237-d36b-ce1cd5a23f5a"
      },
      "outputs": [
        {
          "output_type": "stream",
          "name": "stdout",
          "text": [
            "Enter a number: 6\n",
            "Factorial of 6 is 720.\n"
          ]
        }
      ],
      "source": [
        "num = int(input('Enter a number: '))\n",
        "fact = 1\n",
        "if num == 1 or num == 0:\n",
        "  print(f'Factorial of {num} is {fact}.')\n",
        "else:\n",
        "  for i in range(1, num+1):\n",
        "    fact = fact*i\n",
        "  print(f'Factorial of {num} is {fact}.')"
      ]
    },
    {
      "cell_type": "markdown",
      "source": [
        "Write a python program to find whether a number is prime or composite."
      ],
      "metadata": {
        "id": "vT5wyggbFJFC"
      }
    },
    {
      "cell_type": "code",
      "source": [
        "num = int(input('Enter a number: '))\n",
        "\n",
        "if num > 1:\n",
        "  for i in range(2, int(num/2)):\n",
        "    if num%i == 0:\n",
        "      print(f'{num} is a composite number.')\n",
        "    else:\n",
        "      print(f'{num} is a prime number.')\n",
        "else:\n",
        "  print(f'{num} is a composite number.')"
      ],
      "metadata": {
        "colab": {
          "base_uri": "https://localhost:8080/"
        },
        "id": "sWOzRTHxEBwI",
        "outputId": "309031a8-fe53-4383-8a0f-f4a0df722e65"
      },
      "execution_count": null,
      "outputs": [
        {
          "output_type": "stream",
          "name": "stdout",
          "text": [
            "Enter a number: 7\n",
            "7 is a prime number.\n"
          ]
        }
      ]
    },
    {
      "cell_type": "markdown",
      "source": [
        "Write a python program to check whether a given string is palindrome or not."
      ],
      "metadata": {
        "id": "UuWBVwd-HEe-"
      }
    },
    {
      "cell_type": "code",
      "source": [
        "string = input('Enter a string (in the same case): ')\n",
        "if (string == string[::-1]):\n",
        "  print(f'{string} is a pallindrome.')\n",
        "else:\n",
        "  print(f'{string} is not a pallindrome.')"
      ],
      "metadata": {
        "colab": {
          "base_uri": "https://localhost:8080/"
        },
        "id": "5VksJoa6Ge-o",
        "outputId": "08bc8a9e-948b-40dc-d48b-1bc320a00ffb"
      },
      "execution_count": null,
      "outputs": [
        {
          "output_type": "stream",
          "name": "stdout",
          "text": [
            "Enter a string (in the same case): aditi\n",
            "aditi is not a pallindrome.\n"
          ]
        }
      ]
    },
    {
      "cell_type": "markdown",
      "source": [
        "Write a Python program to get the third side of right-angled triangle from two given sides."
      ],
      "metadata": {
        "id": "rEFPwUlgKB2Q"
      }
    },
    {
      "cell_type": "code",
      "source": [
        "import math\n",
        "\n",
        "side1 = int(input('Enter first side of the triangle (in cms): '))\n",
        "side2 = int(input('Enter second side of the triangle (in cms): '))\n",
        "side3 = math.sqrt((side1*side1)+(side2*side2))\n",
        "print(f'The third side of the triangle is {round(side3,2)} cm.')"
      ],
      "metadata": {
        "colab": {
          "base_uri": "https://localhost:8080/"
        },
        "id": "oEmRUiHAJydO",
        "outputId": "bdbaa350-4486-46ee-9d42-189485519eed"
      },
      "execution_count": null,
      "outputs": [
        {
          "output_type": "stream",
          "name": "stdout",
          "text": [
            "Enter first side of the triangle (in cms): 3\n",
            "Enter second side of the triangle(in cms): 4\n",
            "The third side of the triangle is 5.0 cm.\n"
          ]
        }
      ]
    },
    {
      "cell_type": "markdown",
      "source": [
        "Write a python program to print the frequency of each of the characters present in a given string."
      ],
      "metadata": {
        "id": "CfaIpWwXPKHd"
      }
    }
  ]
}